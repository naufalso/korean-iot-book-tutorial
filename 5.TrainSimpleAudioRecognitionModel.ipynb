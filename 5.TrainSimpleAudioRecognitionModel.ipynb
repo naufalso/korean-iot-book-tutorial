{
  "nbformat": 4,
  "nbformat_minor": 0,
  "metadata": {
    "colab": {
      "name": "Train simple audio recognition model",
      "provenance": [],
      "collapsed_sections": [],
      "toc_visible": true
    },
    "kernelspec": {
      "name": "python3",
      "display_name": "Python 3"
    },
    "accelerator": "GPU"
  },
  "cells": [
    {
      "cell_type": "markdown",
      "metadata": {
        "id": "pO4-CY_TCZZS",
        "colab_type": "text"
      },
      "source": [
        "# 스마트 음성인식을 위한 소스코드"
      ]
    },
    {
      "cell_type": "markdown",
      "metadata": {
        "id": "XaVtYN4nlCft",
        "colab_type": "text"
      },
      "source": [
        "\n",
        "## 학습을 위한 기본 설정\n",
        "\n",
        "\n",
        "os.environ 은 학습의 효율성을 증대시키기 위한 코드입니다.\n",
        "learning rate 및 학습 횟수를 지정하여 학습의 시간을 줄여줍니다."
      ]
    },
    {
      "cell_type": "code",
      "metadata": {
        "id": "ludfxbNIaegy",
        "colab_type": "code",
        "colab": {}
      },
      "source": [
        "import os\n",
        "\n",
        "# 학습하려고 하는 단어를 미리 설정하여 학습 시간을 단축하기 위한 코드\n",
        "os.environ[\"WANTED_WORDS\"] = \"on, off\"\n",
        "\n",
        "# 학습의 횟수는 15000 + 3000 으로 총 18,000번 수행\n",
        "# Learning rate는 0.001, 0.0001 으로 설정\n",
        "os.environ[\"TRAINING_STEPS\"]=\"15000,3000\"\n",
        "os.environ[\"LEARNING_RATE\"]=\"0.001,0.0001\"\n",
        "\n",
        "total_steps = sum(map(lambda string: int(string),\n",
        "                  os.environ[\"TRAINING_STEPS\"].split(\",\")))\n",
        "os.environ[\"TOTAL_STEPS\"] = str(total_steps)\n",
        "\n",
        "# 현재 설정된 값을 echo 명령어를 통해 출력\n",
        "!echo \"Training these words: ${WANTED_WORDS}\"\n",
        "!echo \"Training steps in each stage: ${TRAINING_STEPS}\"\n",
        "!echo \"Learning rate in each stage: ${LEARNING_RATE}\"\n",
        "!echo \"Total number of training steps: ${TOTAL_STEPS}\"\n"
      ],
      "execution_count": 0,
      "outputs": []
    },
    {
      "cell_type": "markdown",
      "metadata": {
        "id": "gCgeOpvY9pAi",
        "colab_type": "text"
      },
      "source": [
        "## 학습을 위한 라이브러리 설치\n",
        "\n",
        "텐서플로우와 텐서보드를 설치합니다."
      ]
    },
    {
      "cell_type": "code",
      "metadata": {
        "id": "Nd1iM1o2ymvA",
        "colab_type": "code",
        "colab": {}
      },
      "source": [
        "!pip uninstall -y tensorflow tensorflow_estimator tensorboard\n",
        "!pip install -q tf-estimator-nightly==1.14.0.dev2019072901 tf-nightly-gpu==1.15.0.dev20190729"
      ],
      "execution_count": 0,
      "outputs": []
    },
    {
      "cell_type": "markdown",
      "metadata": {
        "id": "T9Ty5mR58E4i",
        "colab_type": "text"
      },
      "source": [
        "Github를 통해 공개된 텐서플로우 소스코드를 설치합니다."
      ]
    },
    {
      "cell_type": "code",
      "metadata": {
        "id": "APGx0fEh7hFF",
        "colab_type": "code",
        "colab": {}
      },
      "source": [
        "# Clone the repository from GitHub\n",
        "!git clone -q https://github.com/tensorflow/tensorflow\n",
        "# Check out a commit that has been tested to work\n",
        "# with the build of TensorFlow we're using\n",
        "!git -c advice.detachedHead=false -C tensorflow checkout 17ce384df70"
      ],
      "execution_count": 0,
      "outputs": []
    },
    {
      "cell_type": "markdown",
      "metadata": {
        "id": "aV_0qkYh98LD",
        "colab_type": "text"
      },
      "source": [
        "## 텐서보드를 설치하여 이를 활용해보고자 합니다.\n",
        "\n",
        "이번 실습에서는 텐서보드를 사용하여 학습의 과정을 그래프의 형태로 확인해봅니다."
      ]
    },
    {
      "cell_type": "code",
      "metadata": {
        "id": "yZArmzT85SLq",
        "colab_type": "code",
        "colab": {}
      },
      "source": [
        "# 이전에 가지고 있던 로그는 지우고 텐서보드를 실행합니다.\n",
        "!rm -rf /content/retrain_logs\n",
        "\n",
        "%load_ext tensorboard\n",
        "%tensorboard --logdir /content/retrain_logs"
      ],
      "execution_count": 0,
      "outputs": []
    },
    {
      "cell_type": "markdown",
      "metadata": {
        "id": "x1J96Ron-O4R",
        "colab_type": "text"
      },
      "source": [
        "## 학습 시작\n",
        "\n",
        "스크립트의 형태로 기존에 실습의 형태로 제공되고 있는 코드를 통해 학습을 수행합니다."
      ]
    },
    {
      "cell_type": "code",
      "metadata": {
        "id": "VJsEZx6lynbY",
        "colab_type": "code",
        "colab": {}
      },
      "source": [
        "!python tensorflow/tensorflow/examples/speech_commands/train.py \\\n",
        "--model_architecture=tiny_conv --window_stride=20 --preprocess=micro \\\n",
        "--wanted_words=${WANTED_WORDS} --silence_percentage=25 --unknown_percentage=25 \\\n",
        "--quantize=1 --verbosity=WARN --how_many_training_steps=${TRAINING_STEPS} \\\n",
        "--learning_rate=${LEARNING_RATE} --summaries_dir=/content/retrain_logs \\\n",
        "--data_dir=/content/speech_dataset --train_dir=/content/speech_commands_train \\\n"
      ],
      "execution_count": 0,
      "outputs": []
    },
    {
      "cell_type": "markdown",
      "metadata": {
        "id": "XQUJLrdS-ftl",
        "colab_type": "text"
      },
      "source": [
        "## Freeze the graph\n",
        "\n",
        "Once training is complete, run the following cell to freeze the graph.\n",
        "\n",
        "학습이 완료된 후에는 Freeze the graph라고 하는 작업을 수행합니다.\n",
        "Freeze the graph란 학습 모델을 .pb 라고하는 파일로 생성하는 과정을 뜻합니다.\n",
        "pb 파일을 만듦으로써 C++ 기반의 텐서플로우 Lite에서 해당 학습모델을 사용할 수 있습니다."
      ]
    },
    {
      "cell_type": "code",
      "metadata": {
        "id": "xyc3_eLh9sAg",
        "colab_type": "code",
        "colab": {}
      },
      "source": [
        "!python tensorflow/tensorflow/examples/speech_commands/freeze.py \\\n",
        "--model_architecture=tiny_conv --window_stride=20 --preprocess=micro \\\n",
        "--wanted_words=${WANTED_WORDS} --quantize=1 --output_file=/content/tiny_conv.pb \\\n",
        "--start_checkpoint=/content/speech_commands_train/tiny_conv.ckpt-${TOTAL_STEPS}"
      ],
      "execution_count": 0,
      "outputs": []
    },
    {
      "cell_type": "markdown",
      "metadata": {
        "id": "_DBGDxVI-nKG",
        "colab_type": "text"
      },
      "source": [
        "\n",
        "## 모델의 형태 변경\n",
        "\n",
        "이전 실습과 마찬가지로 텐서플로우에서 학습된 모델을 텐서플로우 Lite에서 사용할 수 있는 모델로 변경합니다."
      ]
    },
    {
      "cell_type": "code",
      "metadata": {
        "id": "lBj_AyCh1cC0",
        "colab_type": "code",
        "colab": {}
      },
      "source": [
        "!toco \\\n",
        "--graph_def_file=/content/tiny_conv.pb --output_file=/content/tiny_conv.tflite \\\n",
        "--input_shapes=1,49,40,1 --input_arrays=Reshape_2 --output_arrays='labels_softmax' \\\n",
        "--inference_type=QUANTIZED_UINT8 --mean_values=0 --std_dev_values=9.8077"
      ],
      "execution_count": 0,
      "outputs": []
    },
    {
      "cell_type": "markdown",
      "metadata": {
        "id": "2pQnN0i_-0L2",
        "colab_type": "text"
      },
      "source": [
        "텐서플로우 Lite에서 사용 가능한 모델을 아두이노 IDE에서 사용하기 위해 .cc 파일의 형태로 저장합니다.\n",
        "\n",
        "xxd 패키지를 설치하여 tflite 파일을 cc 파일로 저장합니다."
      ]
    },
    {
      "cell_type": "code",
      "metadata": {
        "id": "eoYyh0VU8pca",
        "colab_type": "code",
        "colab": {}
      },
      "source": [
        "\n",
        "!apt-get -qq install xxd\n",
        "\n",
        "!xxd -i /content/tiny_conv.tflite > /content/tiny_conv.cc\n",
        "\n",
        "!cat /content/tiny_conv.cc"
      ],
      "execution_count": 0,
      "outputs": []
    }
  ]
}
